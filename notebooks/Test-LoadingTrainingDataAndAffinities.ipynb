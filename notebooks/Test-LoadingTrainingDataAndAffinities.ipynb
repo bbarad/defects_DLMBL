{
 "cells": [
  {
   "cell_type": "code",
   "execution_count": 6,
   "id": "b5b7521e",
   "metadata": {},
   "outputs": [
    {
     "name": "stdout",
     "output_type": "stream",
     "text": [
      "Collecting matplotlib\n",
      "  Using cached matplotlib-3.4.3-cp39-cp39-manylinux1_x86_64.whl (10.3 MB)\n",
      "Requirement already satisfied: numpy>=1.16 in /home/delsignores/.conda/envs/team_defects/lib/python3.9/site-packages (from matplotlib) (1.21.2)\n",
      "Requirement already satisfied: pyparsing>=2.2.1 in /home/delsignores/.conda/envs/team_defects/lib/python3.9/site-packages (from matplotlib) (2.4.7)\n",
      "Collecting kiwisolver>=1.0.1\n",
      "  Using cached kiwisolver-1.3.2-cp39-cp39-manylinux_2_12_x86_64.manylinux2010_x86_64.whl (1.6 MB)\n",
      "Requirement already satisfied: python-dateutil>=2.7 in /home/delsignores/.conda/envs/team_defects/lib/python3.9/site-packages (from matplotlib) (2.8.2)\n",
      "Collecting pillow>=6.2.0\n",
      "  Using cached Pillow-8.3.2-cp39-cp39-manylinux_2_17_x86_64.manylinux2014_x86_64.whl (3.0 MB)\n",
      "Collecting cycler>=0.10\n",
      "  Using cached cycler-0.10.0-py2.py3-none-any.whl (6.5 kB)\n",
      "Requirement already satisfied: six in /home/delsignores/.conda/envs/team_defects/lib/python3.9/site-packages (from cycler>=0.10->matplotlib) (1.16.0)\n",
      "Installing collected packages: pillow, kiwisolver, cycler, matplotlib\n",
      "Successfully installed cycler-0.10.0 kiwisolver-1.3.2 matplotlib-3.4.3 pillow-8.3.2\n"
     ]
    }
   ],
   "source": [
    "!pip install matplotlib"
   ]
  },
  {
   "cell_type": "code",
   "execution_count": 7,
   "id": "1b129697",
   "metadata": {},
   "outputs": [],
   "source": [
    "import h5py\n",
    "import io\n",
    "import logging\n",
    "import math\n",
    "\n",
    "import numpy as np\n",
    "import random\n",
    "import requests\n",
    "import torch\n",
    "import zarr"
   ]
  },
  {
   "cell_type": "code",
   "execution_count": 8,
   "id": "dfd86efc",
   "metadata": {},
   "outputs": [],
   "source": [
    "#@title utility  function to download / save data as zarr\n",
    "\n",
    "def create_data(\n",
    "    url, \n",
    "    name, \n",
    "    offset, \n",
    "    resolution,\n",
    "    sections=None,\n",
    "    squeeze=True):\n",
    "\n",
    "  in_f = h5py.File(io.BytesIO(requests.get(url).content), 'r')\n",
    "\n",
    "  raw = in_f['volumes/raw']\n",
    "  labels = in_f['volumes/labels/neuron_ids']\n",
    "  \n",
    "  f = zarr.open(name, 'a')\n",
    "\n",
    "  if sections is None:\n",
    "    sections=range(raw.shape[0]-1)\n",
    "\n",
    "  for i, r in enumerate(sections):\n",
    "\n",
    "    print(f'Writing data for section {r}')\n",
    "\n",
    "    raw_slice = raw[r:r+1,:,:]\n",
    "    labels_slice = labels[r:r+1,:,:]\n",
    "\n",
    "    if squeeze:\n",
    "      raw_slice = np.squeeze(raw_slice)\n",
    "      labels_slice = np.squeeze(labels_slice)\n",
    "\n",
    "    f[f'raw/{i}'] = raw_slice\n",
    "    f[f'labels/{i}'] = labels_slice\n",
    "\n",
    "    f[f'raw/{i}'].attrs['offset'] = offset\n",
    "    f[f'raw/{i}'].attrs['resolution'] = resolution\n",
    "\n",
    "    f[f'labels/{i}'].attrs['offset'] = offset\n",
    "    f[f'labels/{i}'].attrs['resolution'] = resolution"
   ]
  },
  {
   "cell_type": "code",
   "execution_count": 10,
   "id": "623bdb58",
   "metadata": {},
   "outputs": [
    {
     "name": "stdout",
     "output_type": "stream",
     "text": [
      "Writing data for section 0\n",
      "Writing data for section 1\n",
      "Writing data for section 2\n",
      "Writing data for section 3\n",
      "Writing data for section 4\n",
      "Writing data for section 5\n",
      "Writing data for section 6\n",
      "Writing data for section 7\n",
      "Writing data for section 8\n",
      "Writing data for section 9\n",
      "Writing data for section 10\n",
      "Writing data for section 11\n",
      "Writing data for section 12\n",
      "Writing data for section 13\n",
      "Writing data for section 14\n",
      "Writing data for section 15\n",
      "Writing data for section 16\n",
      "Writing data for section 17\n",
      "Writing data for section 18\n",
      "Writing data for section 19\n",
      "Writing data for section 20\n",
      "Writing data for section 21\n",
      "Writing data for section 22\n",
      "Writing data for section 23\n",
      "Writing data for section 24\n",
      "Writing data for section 25\n",
      "Writing data for section 26\n",
      "Writing data for section 27\n",
      "Writing data for section 28\n",
      "Writing data for section 29\n",
      "Writing data for section 30\n",
      "Writing data for section 31\n",
      "Writing data for section 32\n",
      "Writing data for section 33\n",
      "Writing data for section 34\n",
      "Writing data for section 35\n",
      "Writing data for section 36\n",
      "Writing data for section 37\n",
      "Writing data for section 38\n",
      "Writing data for section 39\n",
      "Writing data for section 40\n",
      "Writing data for section 41\n",
      "Writing data for section 42\n",
      "Writing data for section 43\n",
      "Writing data for section 44\n",
      "Writing data for section 45\n",
      "Writing data for section 46\n",
      "Writing data for section 47\n",
      "Writing data for section 48\n",
      "Writing data for section 49\n",
      "Writing data for section 50\n",
      "Writing data for section 51\n",
      "Writing data for section 52\n",
      "Writing data for section 53\n",
      "Writing data for section 54\n",
      "Writing data for section 55\n",
      "Writing data for section 56\n",
      "Writing data for section 57\n",
      "Writing data for section 58\n",
      "Writing data for section 59\n",
      "Writing data for section 60\n",
      "Writing data for section 61\n",
      "Writing data for section 62\n",
      "Writing data for section 63\n",
      "Writing data for section 64\n",
      "Writing data for section 65\n",
      "Writing data for section 66\n",
      "Writing data for section 67\n",
      "Writing data for section 68\n",
      "Writing data for section 69\n",
      "Writing data for section 70\n",
      "Writing data for section 71\n",
      "Writing data for section 72\n",
      "Writing data for section 73\n",
      "Writing data for section 74\n",
      "Writing data for section 75\n",
      "Writing data for section 76\n",
      "Writing data for section 77\n",
      "Writing data for section 78\n",
      "Writing data for section 79\n",
      "Writing data for section 80\n",
      "Writing data for section 81\n",
      "Writing data for section 82\n",
      "Writing data for section 83\n",
      "Writing data for section 84\n",
      "Writing data for section 85\n",
      "Writing data for section 86\n",
      "Writing data for section 87\n",
      "Writing data for section 88\n",
      "Writing data for section 89\n",
      "Writing data for section 90\n",
      "Writing data for section 91\n",
      "Writing data for section 92\n",
      "Writing data for section 93\n",
      "Writing data for section 94\n",
      "Writing data for section 95\n",
      "Writing data for section 96\n",
      "Writing data for section 97\n",
      "Writing data for section 98\n",
      "Writing data for section 99\n",
      "Writing data for section 100\n",
      "Writing data for section 101\n",
      "Writing data for section 102\n",
      "Writing data for section 103\n",
      "Writing data for section 104\n",
      "Writing data for section 105\n",
      "Writing data for section 106\n",
      "Writing data for section 107\n",
      "Writing data for section 108\n",
      "Writing data for section 109\n",
      "Writing data for section 110\n",
      "Writing data for section 111\n",
      "Writing data for section 112\n",
      "Writing data for section 113\n",
      "Writing data for section 114\n",
      "Writing data for section 115\n",
      "Writing data for section 116\n",
      "Writing data for section 117\n",
      "Writing data for section 118\n",
      "Writing data for section 119\n",
      "Writing data for section 120\n",
      "Writing data for section 121\n",
      "Writing data for section 122\n",
      "Writing data for section 123\n"
     ]
    }
   ],
   "source": [
    "#lets use the some cremi challenge data as an example\n",
    "create_data(\n",
    "    'http://cremi.org/static/data/sample_A_20160501.hdf',\n",
    "    'Data/training_data.zarr',\n",
    "    offset=[0,0],\n",
    "    resolution=[4,4])"
   ]
  },
  {
   "cell_type": "code",
   "execution_count": null,
   "id": "0cbc2d75",
   "metadata": {},
   "outputs": [],
   "source": [
    "# conda install jupyter pytorch tensorboard h5py\n",
    "\n",
    "from torch.utils.data import Dataset\n",
    "import h5py\n",
    "\n",
    "\n",
    "class ISBIDataset(Dataset):\n",
    "    def __init__(self,filename):\n",
    "        self.filename = filename\n",
    "        self.samples = self.get_num_samples()\n",
    "\n",
    "    def __len__(self):\n",
    "        return self.samples\n",
    "\n",
    "    def get_num_samples(self):\n",
    "        with h5py.File(self.filename) as f:\n",
    "            samples = f['raw'].shape[0]\n",
    "        return samples\n",
    "\n",
    "    def __getitem__(self,index):\n",
    "        with h5py.File(self.filename) as f:\n",
    "            x = f['raw'][index]\n",
    "            y = f['affinities'][0,index]\n",
    "        return torch.tensor(x).unsqueeze(0),torch.tensor(y).long()\n",
    "\n"
   ]
  },
  {
   "cell_type": "code",
   "execution_count": 15,
   "id": "6114d067",
   "metadata": {},
   "outputs": [
    {
     "data": {
      "text/plain": [
       "'/home/delsignores/defects_DLMBL/notebooks'"
      ]
     },
     "execution_count": 15,
     "metadata": {},
     "output_type": "execute_result"
    }
   ],
   "source": [
    "import os\n",
    "os.getcwd()"
   ]
  },
  {
   "cell_type": "code",
   "execution_count": 106,
   "id": "2385526a",
   "metadata": {},
   "outputs": [],
   "source": [
    "from torch.utils.data import Dataset\n",
    "import h5py\n",
    "\n",
    "\n",
    "class ISBIDataset(Dataset):\n",
    "    def __init__(self,filename):\n",
    "        self.filename = filename\n",
    "        self.samples = self.get_num_samples()\n",
    "\n",
    "    def __len__(self):\n",
    "        return self.samples\n",
    "\n",
    "    def get_num_samples(self):\n",
    "        with zarr.open(self.filename, 'r') as f:\n",
    "            samples = len(list(f['raw']))\n",
    "        return samples\n",
    "\n",
    "        \n",
    "    def affinities(self, y, pad_size=1):\n",
    "        # shift 1\n",
    "        y0 = y[:-pad_size,:]\n",
    "        y1 = y[pad_size:, :]\n",
    "        aff1 = y0==y1\n",
    "        aff1 = np.pad(aff1, ((1,0), (0,0)))\n",
    "        \n",
    "        #shift 2\n",
    "        y11 = y[:, :-pad_size]\n",
    "        y12 = y[:, pad_size:]\n",
    "        aff2 = y11==y12\n",
    "        aff2 = np.pad(aff2, ((0,0), (1,0)))\n",
    "        \n",
    "        return np.stack((aff1, aff2), axis=0)\n",
    "            \n",
    "    def __getitem__(self,index):\n",
    "        with zarr.open(self.filename, 'r') as f:\n",
    "            x = f[f'raw/{index}']\n",
    "            y = f[f'labels/{index}']\n",
    "        return (x, self.affinities(y))"
   ]
  },
  {
   "cell_type": "markdown",
   "id": "2d8a54de",
   "metadata": {},
   "source": [
    "    def affinity(self, y, pads=(1, 0)):\n",
    "        padder=[[i, 0] for i in pads]\n",
    "        slicer= [slice(0, -p) if p!=0 else slice(None) for p in pads]\n",
    "        y1=np.pad(y, pad_width=padder)[slicer]\n",
    "        aff = y==y1\n",
    "        return aff\n",
    "    \n",
    "    def affinities(self, y, pads = ((1,0), (0,1), (1,1))):\n",
    "        y_shape=y.shape\n",
    "        dims = len(pads)\n",
    "        affinities=np.zeros((dims, *y_shape))\n",
    "        affinities[p,...] = self.affinity(y, pad)\n",
    "        return affinities"
   ]
  },
  {
   "cell_type": "code",
   "execution_count": 75,
   "id": "4dfab17d",
   "metadata": {},
   "outputs": [],
   "source": [
    "fn='Data/training_data.zarr'"
   ]
  },
  {
   "cell_type": "code",
   "execution_count": 43,
   "id": "c142dd5d",
   "metadata": {},
   "outputs": [],
   "source": [
    "f = zarr.open(fn, 'r')"
   ]
  },
  {
   "cell_type": "code",
   "execution_count": 45,
   "id": "c1146aa6",
   "metadata": {},
   "outputs": [
    {
     "data": {
      "text/plain": [
       "['labels', 'raw']"
      ]
     },
     "execution_count": 45,
     "metadata": {},
     "output_type": "execute_result"
    }
   ],
   "source": [
    "list(f.keys())"
   ]
  },
  {
   "cell_type": "code",
   "execution_count": 54,
   "id": "b939bcba",
   "metadata": {},
   "outputs": [
    {
     "data": {
      "text/plain": [
       "124"
      ]
     },
     "execution_count": 54,
     "metadata": {},
     "output_type": "execute_result"
    }
   ],
   "source": [
    "len(list(f['raw']))"
   ]
  },
  {
   "cell_type": "code",
   "execution_count": 67,
   "id": "90bc46a0",
   "metadata": {},
   "outputs": [
    {
     "data": {
      "text/plain": [
       "(1250, 1250)"
      ]
     },
     "execution_count": 67,
     "metadata": {},
     "output_type": "execute_result"
    }
   ],
   "source": [
    "f['labels/0'][:].shape"
   ]
  },
  {
   "cell_type": "code",
   "execution_count": 107,
   "id": "f835e31c",
   "metadata": {},
   "outputs": [],
   "source": [
    "arlosmagicdata=ISBIDataset('Data/training_data.zarr')"
   ]
  },
  {
   "cell_type": "code",
   "execution_count": 109,
   "id": "d422e0e3",
   "metadata": {},
   "outputs": [
    {
     "data": {
      "text/plain": [
       "array([[False, False, False, ..., False, False, False],\n",
       "       [False,  True,  True, ...,  True,  True,  True],\n",
       "       [ True,  True,  True, ...,  True,  True,  True],\n",
       "       ...,\n",
       "       [ True,  True,  True, ...,  True,  True,  True],\n",
       "       [ True,  True,  True, ...,  True,  True,  True],\n",
       "       [ True,  True,  True, ...,  True,  True,  True]])"
      ]
     },
     "execution_count": 109,
     "metadata": {},
     "output_type": "execute_result"
    }
   ],
   "source": [
    "arlosmagicdata[0][1][0]"
   ]
  },
  {
   "cell_type": "code",
   "execution_count": 111,
   "id": "8976fa59",
   "metadata": {},
   "outputs": [
    {
     "data": {
      "text/plain": [
       "<matplotlib.image.AxesImage at 0x7f0963921580>"
      ]
     },
     "execution_count": 111,
     "metadata": {},
     "output_type": "execute_result"
    },
    {
     "data": {
      "image/png": "[encoded data removed]",
      "text/plain": [
       "<Figure size 432x288 with 1 Axes>"
      ]
     },
     "metadata": {
      "needs_background": "light"
     },
     "output_type": "display_data"
    }
   ],
   "source": [
    "import matplotlib.pyplot as plt\n",
    "plt.imshow(arlosmagicdata[0][1][0])"
   ]
  },
  {
   "cell_type": "code",
   "execution_count": 36,
   "id": "56746fba",
   "metadata": {},
   "outputs": [
    {
     "data": {
      "text/html": [
       "<table class=\"zarr-info\"><tbody><tr><th style=\"text-align: left\">Name</th><td style=\"text-align: left\">/</td></tr><tr><th style=\"text-align: left\">Type</th><td style=\"text-align: left\">zarr.hierarchy.Group</td></tr><tr><th style=\"text-align: left\">Read-only</th><td style=\"text-align: left\">True</td></tr><tr><th style=\"text-align: left\">Store type</th><td style=\"text-align: left\">zarr.storage.DirectoryStore</td></tr><tr><th style=\"text-align: left\">No. members</th><td style=\"text-align: left\">2</td></tr><tr><th style=\"text-align: left\">No. arrays</th><td style=\"text-align: left\">0</td></tr><tr><th style=\"text-align: left\">No. groups</th><td style=\"text-align: left\">2</td></tr><tr><th style=\"text-align: left\">Groups</th><td style=\"text-align: left\">labels, raw</td></tr></tbody></table>"
      ],
      "text/plain": [
       "Name        : /\n",
       "Type        : zarr.hierarchy.Group\n",
       "Read-only   : True\n",
       "Store type  : zarr.storage.DirectoryStore\n",
       "No. members : 2\n",
       "No. arrays  : 0\n",
       "No. groups  : 2\n",
       "Groups      : labels, raw"
      ]
     },
     "execution_count": 36,
     "metadata": {},
     "output_type": "execute_result"
    }
   ],
   "source": [
    "f.info"
   ]
  },
  {
   "cell_type": "code",
   "execution_count": 37,
   "id": "df8cb376",
   "metadata": {},
   "outputs": [
    {
     "data": {
      "text/plain": [
       "['labels', 'raw']"
      ]
     },
     "execution_count": 37,
     "metadata": {},
     "output_type": "execute_result"
    }
   ],
   "source": [
    "list(f.keys())"
   ]
  },
  {
   "cell_type": "code",
   "execution_count": 26,
   "id": "0bc60423",
   "metadata": {},
   "outputs": [
    {
     "name": "stdout",
     "output_type": "stream",
     "text": [
      "Requirement already satisfied: zarr[jupyter] in /home/delsignores/.conda/envs/team_defects/lib/python3.9/site-packages (2.10.1)\n",
      "Requirement already satisfied: numcodecs>=0.6.4 in /home/delsignores/.conda/envs/team_defects/lib/python3.9/site-packages (from zarr[jupyter]) (0.9.1)\n",
      "Requirement already satisfied: numpy>=1.7 in /home/delsignores/.conda/envs/team_defects/lib/python3.9/site-packages (from zarr[jupyter]) (1.21.2)\n",
      "Requirement already satisfied: fasteners in /home/delsignores/.conda/envs/team_defects/lib/python3.9/site-packages (from zarr[jupyter]) (0.16.3)\n",
      "Requirement already satisfied: asciitree in /home/delsignores/.conda/envs/team_defects/lib/python3.9/site-packages (from zarr[jupyter]) (0.3.3)\n",
      "Collecting ipytree\n",
      "  Downloading ipytree-0.2.1-py2.py3-none-any.whl (1.3 MB)\n",
      "\u001b[K     |████████████████████████████████| 1.3 MB 4.6 MB/s eta 0:00:01\n",
      "\u001b[?25hRequirement already satisfied: notebook in /home/delsignores/.conda/envs/team_defects/lib/python3.9/site-packages (from zarr[jupyter]) (6.4.4)\n",
      "Requirement already satisfied: six in /home/delsignores/.conda/envs/team_defects/lib/python3.9/site-packages (from fasteners->zarr[jupyter]) (1.16.0)\n",
      "Requirement already satisfied: ipywidgets<8,>=7.5.0 in /home/delsignores/.conda/envs/team_defects/lib/python3.9/site-packages (from ipytree->zarr[jupyter]) (7.6.5)\n",
      "Requirement already satisfied: ipykernel>=4.5.1 in /home/delsignores/.conda/envs/team_defects/lib/python3.9/site-packages (from ipywidgets<8,>=7.5.0->ipytree->zarr[jupyter]) (6.4.1)\n",
      "Requirement already satisfied: jupyterlab-widgets>=1.0.0 in /home/delsignores/.conda/envs/team_defects/lib/python3.9/site-packages (from ipywidgets<8,>=7.5.0->ipytree->zarr[jupyter]) (1.0.2)\n",
      "Requirement already satisfied: ipython>=4.0.0 in /home/delsignores/.conda/envs/team_defects/lib/python3.9/site-packages (from ipywidgets<8,>=7.5.0->ipytree->zarr[jupyter]) (7.28.0)\n",
      "Requirement already satisfied: traitlets>=4.3.1 in /home/delsignores/.conda/envs/team_defects/lib/python3.9/site-packages (from ipywidgets<8,>=7.5.0->ipytree->zarr[jupyter]) (5.1.0)\n",
      "Requirement already satisfied: nbformat>=4.2.0 in /home/delsignores/.conda/envs/team_defects/lib/python3.9/site-packages (from ipywidgets<8,>=7.5.0->ipytree->zarr[jupyter]) (5.1.3)\n",
      "Requirement already satisfied: widgetsnbextension~=3.5.0 in /home/delsignores/.conda/envs/team_defects/lib/python3.9/site-packages (from ipywidgets<8,>=7.5.0->ipytree->zarr[jupyter]) (3.5.1)\n",
      "Requirement already satisfied: ipython-genutils~=0.2.0 in /home/delsignores/.conda/envs/team_defects/lib/python3.9/site-packages (from ipywidgets<8,>=7.5.0->ipytree->zarr[jupyter]) (0.2.0)\n",
      "Requirement already satisfied: matplotlib-inline<0.2.0,>=0.1.0 in /home/delsignores/.conda/envs/team_defects/lib/python3.9/site-packages (from ipykernel>=4.5.1->ipywidgets<8,>=7.5.0->ipytree->zarr[jupyter]) (0.1.3)\n",
      "Requirement already satisfied: jupyter-client<8.0 in /home/delsignores/.conda/envs/team_defects/lib/python3.9/site-packages (from ipykernel>=4.5.1->ipywidgets<8,>=7.5.0->ipytree->zarr[jupyter]) (7.0.5)\n",
      "Requirement already satisfied: tornado<7.0,>=4.2 in /home/delsignores/.conda/envs/team_defects/lib/python3.9/site-packages (from ipykernel>=4.5.1->ipywidgets<8,>=7.5.0->ipytree->zarr[jupyter]) (6.1)\n",
      "Requirement already satisfied: debugpy<2.0,>=1.0.0 in /home/delsignores/.conda/envs/team_defects/lib/python3.9/site-packages (from ipykernel>=4.5.1->ipywidgets<8,>=7.5.0->ipytree->zarr[jupyter]) (1.4.3)\n",
      "Requirement already satisfied: prompt-toolkit!=3.0.0,!=3.0.1,<3.1.0,>=2.0.0 in /home/delsignores/.conda/envs/team_defects/lib/python3.9/site-packages (from ipython>=4.0.0->ipywidgets<8,>=7.5.0->ipytree->zarr[jupyter]) (3.0.20)\n",
      "Requirement already satisfied: pygments in /home/delsignores/.conda/envs/team_defects/lib/python3.9/site-packages (from ipython>=4.0.0->ipywidgets<8,>=7.5.0->ipytree->zarr[jupyter]) (2.10.0)\n",
      "Requirement already satisfied: backcall in /home/delsignores/.conda/envs/team_defects/lib/python3.9/site-packages (from ipython>=4.0.0->ipywidgets<8,>=7.5.0->ipytree->zarr[jupyter]) (0.2.0)\n",
      "Requirement already satisfied: pickleshare in /home/delsignores/.conda/envs/team_defects/lib/python3.9/site-packages (from ipython>=4.0.0->ipywidgets<8,>=7.5.0->ipytree->zarr[jupyter]) (0.7.5)\n",
      "Requirement already satisfied: setuptools>=18.5 in /home/delsignores/.conda/envs/team_defects/lib/python3.9/site-packages (from ipython>=4.0.0->ipywidgets<8,>=7.5.0->ipytree->zarr[jupyter]) (58.0.4)\n",
      "Requirement already satisfied: decorator in /home/delsignores/.conda/envs/team_defects/lib/python3.9/site-packages (from ipython>=4.0.0->ipywidgets<8,>=7.5.0->ipytree->zarr[jupyter]) (5.1.0)\n",
      "Requirement already satisfied: jedi>=0.16 in /home/delsignores/.conda/envs/team_defects/lib/python3.9/site-packages (from ipython>=4.0.0->ipywidgets<8,>=7.5.0->ipytree->zarr[jupyter]) (0.18.0)\n",
      "Requirement already satisfied: pexpect>4.3 in /home/delsignores/.conda/envs/team_defects/lib/python3.9/site-packages (from ipython>=4.0.0->ipywidgets<8,>=7.5.0->ipytree->zarr[jupyter]) (4.8.0)\n",
      "Requirement already satisfied: parso<0.9.0,>=0.8.0 in /home/delsignores/.conda/envs/team_defects/lib/python3.9/site-packages (from jedi>=0.16->ipython>=4.0.0->ipywidgets<8,>=7.5.0->ipytree->zarr[jupyter]) (0.8.2)\n",
      "Requirement already satisfied: pyzmq>=13 in /home/delsignores/.conda/envs/team_defects/lib/python3.9/site-packages (from jupyter-client<8.0->ipykernel>=4.5.1->ipywidgets<8,>=7.5.0->ipytree->zarr[jupyter]) (22.3.0)\n",
      "Requirement already satisfied: nest-asyncio>=1.5 in /home/delsignores/.conda/envs/team_defects/lib/python3.9/site-packages (from jupyter-client<8.0->ipykernel>=4.5.1->ipywidgets<8,>=7.5.0->ipytree->zarr[jupyter]) (1.5.1)\n",
      "Requirement already satisfied: python-dateutil>=2.1 in /home/delsignores/.conda/envs/team_defects/lib/python3.9/site-packages (from jupyter-client<8.0->ipykernel>=4.5.1->ipywidgets<8,>=7.5.0->ipytree->zarr[jupyter]) (2.8.2)\n",
      "Requirement already satisfied: jupyter-core>=4.6.0 in /home/delsignores/.conda/envs/team_defects/lib/python3.9/site-packages (from jupyter-client<8.0->ipykernel>=4.5.1->ipywidgets<8,>=7.5.0->ipytree->zarr[jupyter]) (4.8.1)\n",
      "Requirement already satisfied: entrypoints in /home/delsignores/.conda/envs/team_defects/lib/python3.9/site-packages (from jupyter-client<8.0->ipykernel>=4.5.1->ipywidgets<8,>=7.5.0->ipytree->zarr[jupyter]) (0.3)\n",
      "Requirement already satisfied: jsonschema!=2.5.0,>=2.4 in /home/delsignores/.conda/envs/team_defects/lib/python3.9/site-packages (from nbformat>=4.2.0->ipywidgets<8,>=7.5.0->ipytree->zarr[jupyter]) (4.0.1)\n",
      "Requirement already satisfied: pyrsistent!=0.17.0,!=0.17.1,!=0.17.2,>=0.14.0 in /home/delsignores/.conda/envs/team_defects/lib/python3.9/site-packages (from jsonschema!=2.5.0,>=2.4->nbformat>=4.2.0->ipywidgets<8,>=7.5.0->ipytree->zarr[jupyter]) (0.18.0)\n",
      "Requirement already satisfied: attrs>=17.4.0 in /home/delsignores/.conda/envs/team_defects/lib/python3.9/site-packages (from jsonschema!=2.5.0,>=2.4->nbformat>=4.2.0->ipywidgets<8,>=7.5.0->ipytree->zarr[jupyter]) (21.2.0)\n",
      "Requirement already satisfied: ptyprocess>=0.5 in /home/delsignores/.conda/envs/team_defects/lib/python3.9/site-packages (from pexpect>4.3->ipython>=4.0.0->ipywidgets<8,>=7.5.0->ipytree->zarr[jupyter]) (0.7.0)\n",
      "Requirement already satisfied: wcwidth in /home/delsignores/.conda/envs/team_defects/lib/python3.9/site-packages (from prompt-toolkit!=3.0.0,!=3.0.1,<3.1.0,>=2.0.0->ipython>=4.0.0->ipywidgets<8,>=7.5.0->ipytree->zarr[jupyter]) (0.2.5)\n",
      "Requirement already satisfied: prometheus-client in /home/delsignores/.conda/envs/team_defects/lib/python3.9/site-packages (from notebook->zarr[jupyter]) (0.11.0)\n",
      "Requirement already satisfied: nbconvert in /home/delsignores/.conda/envs/team_defects/lib/python3.9/site-packages (from notebook->zarr[jupyter]) (6.2.0)\n",
      "Requirement already satisfied: Send2Trash>=1.5.0 in /home/delsignores/.conda/envs/team_defects/lib/python3.9/site-packages (from notebook->zarr[jupyter]) (1.8.0)\n",
      "Requirement already satisfied: terminado>=0.8.3 in /home/delsignores/.conda/envs/team_defects/lib/python3.9/site-packages (from notebook->zarr[jupyter]) (0.12.1)\n",
      "Requirement already satisfied: argon2-cffi in /home/delsignores/.conda/envs/team_defects/lib/python3.9/site-packages (from notebook->zarr[jupyter]) (21.1.0)\n",
      "Requirement already satisfied: jinja2 in /home/delsignores/.conda/envs/team_defects/lib/python3.9/site-packages (from notebook->zarr[jupyter]) (3.0.1)\n",
      "Requirement already satisfied: cffi>=1.0.0 in /home/delsignores/.conda/envs/team_defects/lib/python3.9/site-packages (from argon2-cffi->notebook->zarr[jupyter]) (1.14.6)\n",
      "Requirement already satisfied: pycparser in /home/delsignores/.conda/envs/team_defects/lib/python3.9/site-packages (from cffi>=1.0.0->argon2-cffi->notebook->zarr[jupyter]) (2.20)\n"
     ]
    },
    {
     "name": "stdout",
     "output_type": "stream",
     "text": [
      "Requirement already satisfied: MarkupSafe>=2.0 in /home/delsignores/.conda/envs/team_defects/lib/python3.9/site-packages (from jinja2->notebook->zarr[jupyter]) (2.0.1)\n",
      "Requirement already satisfied: bleach in /home/delsignores/.conda/envs/team_defects/lib/python3.9/site-packages (from nbconvert->notebook->zarr[jupyter]) (4.1.0)\n",
      "Requirement already satisfied: defusedxml in /home/delsignores/.conda/envs/team_defects/lib/python3.9/site-packages (from nbconvert->notebook->zarr[jupyter]) (0.7.1)\n",
      "Requirement already satisfied: jupyterlab-pygments in /home/delsignores/.conda/envs/team_defects/lib/python3.9/site-packages (from nbconvert->notebook->zarr[jupyter]) (0.1.2)\n",
      "Requirement already satisfied: mistune<2,>=0.8.1 in /home/delsignores/.conda/envs/team_defects/lib/python3.9/site-packages (from nbconvert->notebook->zarr[jupyter]) (0.8.4)\n",
      "Requirement already satisfied: nbclient<0.6.0,>=0.5.0 in /home/delsignores/.conda/envs/team_defects/lib/python3.9/site-packages (from nbconvert->notebook->zarr[jupyter]) (0.5.4)\n",
      "Requirement already satisfied: pandocfilters>=1.4.1 in /home/delsignores/.conda/envs/team_defects/lib/python3.9/site-packages (from nbconvert->notebook->zarr[jupyter]) (1.5.0)\n",
      "Requirement already satisfied: testpath in /home/delsignores/.conda/envs/team_defects/lib/python3.9/site-packages (from nbconvert->notebook->zarr[jupyter]) (0.5.0)\n",
      "Requirement already satisfied: webencodings in /home/delsignores/.conda/envs/team_defects/lib/python3.9/site-packages (from bleach->nbconvert->notebook->zarr[jupyter]) (0.5.1)\n",
      "Requirement already satisfied: packaging in /home/delsignores/.conda/envs/team_defects/lib/python3.9/site-packages (from bleach->nbconvert->notebook->zarr[jupyter]) (21.0)\n",
      "Requirement already satisfied: pyparsing>=2.0.2 in /home/delsignores/.conda/envs/team_defects/lib/python3.9/site-packages (from packaging->bleach->nbconvert->notebook->zarr[jupyter]) (2.4.7)\n",
      "Installing collected packages: ipytree\n",
      "Successfully installed ipytree-0.2.1\n"
     ]
    }
   ],
   "source": [
    "! pip install zarr[jupyter]"
   ]
  },
  {
   "cell_type": "code",
   "execution_count": 27,
   "id": "3f1ee8e1",
   "metadata": {},
   "outputs": [
    {
     "data": {
      "application/vnd.jupyter.widget-view+json": {
       "model_id": "36f9dec9b4a7482398aaace60f5d287f",
       "version_major": 2,
       "version_minor": 0
      },
      "text/plain": [
       "Tree(nodes=(Node(disabled=True, name='/'),))"
      ]
     },
     "metadata": {},
     "output_type": "display_data"
    }
   ],
   "source": [
    "f.tree()"
   ]
  },
  {
   "cell_type": "code",
   "execution_count": 28,
   "id": "963d3ede",
   "metadata": {},
   "outputs": [
    {
     "data": {
      "text/html": [
       "<table class=\"zarr-info\"><tbody><tr><th style=\"text-align: left\">Name</th><td style=\"text-align: left\">/</td></tr><tr><th style=\"text-align: left\">Type</th><td style=\"text-align: left\">zarr.hierarchy.Group</td></tr><tr><th style=\"text-align: left\">Read-only</th><td style=\"text-align: left\">False</td></tr><tr><th style=\"text-align: left\">Store type</th><td style=\"text-align: left\">zarr.storage.DirectoryStore</td></tr><tr><th style=\"text-align: left\">No. members</th><td style=\"text-align: left\">0</td></tr><tr><th style=\"text-align: left\">No. arrays</th><td style=\"text-align: left\">0</td></tr><tr><th style=\"text-align: left\">No. groups</th><td style=\"text-align: left\">0</td></tr></tbody></table>"
      ],
      "text/plain": [
       "Name        : /\n",
       "Type        : zarr.hierarchy.Group\n",
       "Read-only   : False\n",
       "Store type  : zarr.storage.DirectoryStore\n",
       "No. members : 0\n",
       "No. arrays  : 0\n",
       "No. groups  : 0"
      ]
     },
     "execution_count": 28,
     "metadata": {},
     "output_type": "execute_result"
    }
   ],
   "source": [
    "f.info"
   ]
  },
  {
   "cell_type": "code",
   "execution_count": null,
   "id": "e4ff252c",
   "metadata": {},
   "outputs": [],
   "source": []
  }
 ],
 "metadata": {
  "kernelspec": {
   "display_name": "Python 3 (ipykernel)",
   "language": "python",
   "name": "python3"
  },
  "language_info": {
   "codemirror_mode": {
    "name": "ipython",
    "version": 3
   },
   "file_extension": ".py",
   "mimetype": "text/x-python",
   "name": "python",
   "nbconvert_exporter": "python",
   "pygments_lexer": "ipython3",
   "version": "3.9.7"
  }
 },
 "nbformat": 4,
 "nbformat_minor": 5
}
