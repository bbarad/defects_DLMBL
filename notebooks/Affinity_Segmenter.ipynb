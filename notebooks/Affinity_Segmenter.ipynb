{
 "cells": [
  {
   "cell_type": "code",
   "execution_count": null,
   "id": "bf84a58c",
   "metadata": {},
   "outputs": [],
   "source": [
    "import os\n",
    "import glob\n",
    "os.getcwd()\n",
    "assert os.getcwd().split(\"/\")[-1] == 'notebooks'\n",
    "from skimage.io import imread, imsave\n",
    "from defects_dlmbl import segment_affinities as seg\n",
    "import numpy as np\n",
    "import matplotlib.pyplot as plt"
   ]
  },
  {
   "cell_type": "code",
   "execution_count": null,
   "id": "83c50563",
   "metadata": {},
   "outputs": [],
   "source": [
    "image_folder = '../experiments/images/'\n",
    "affinity_list = sorted(glob.glob(image_folder+\"*_affinity.tif\"), key=lambda fn: int(fn.split(\"/\")[-1].split('_')[0]))\n",
    "img_list = sorted(glob.glob(image_folder+\"*_image.tif\"), key=lambda fn: int(fn.split(\"/\")[-1].split('_')[0]))"
   ]
  },
  {
   "cell_type": "code",
   "execution_count": null,
   "id": "2da3eca5",
   "metadata": {},
   "outputs": [],
   "source": [
    "print(affinity_list[0].split('_')[0])"
   ]
  },
  {
   "cell_type": "code",
   "execution_count": null,
   "id": "e6ef0d49",
   "metadata": {},
   "outputs": [],
   "source": [
    "segmentations = []\n",
    "scores = []\n",
    "for item in affinity_list:\n",
    "    affinity = imread(item)\n",
    "    assert len(affinity.shape) == 3\n",
    "    assert affinity.shape[0] == 2 # only works for this\n",
    "    affs = np.stack([np.zeros_like(affinity[0]),\n",
    "            affinity[0],\n",
    "            affinity[1]])\n",
    "    affs = np.expand_dims(affs, axis=1)\n",
    "    segmentation = segmentation = seg.watershed_from_affinities(affs, threshold=0.95)\n",
    "    segmentation = segmentation.astype('int16')\n",
    "    imsave(item.split('_')[0]+\"_segmentation.tif\", segmentation)\n",
    "    segmentations.append(segmentation)\n",
    "\n",
    "\n",
    "    "
   ]
  },
  {
   "cell_type": "code",
   "execution_count": null,
   "id": "2e71e2a6",
   "metadata": {},
   "outputs": [],
   "source": [
    "imgs = [imread(img) for img in img_list]\n",
    "plt.imshow(imgs[0].squeeze())"
   ]
  },
  {
   "cell_type": "code",
   "execution_count": null,
   "id": "3c1d5f2f",
   "metadata": {},
   "outputs": [],
   "source": [
    "n_col = 5 \n",
    "n_row = 1\n",
    "fig, axs = plt.subplots(n_row, n_col, figsize=(12, 5))\n",
    "sample_data = [segmentations[3+18*i] for i in range(5)]\n",
    "axs = axs.flatten()\n",
    "i = 3\n",
    "for img, ax in zip(sample_data, axs):\n",
    "    ax.imshow(img[0,...])\n",
    "    ax.xaxis.set_visible(False)\n",
    "    ax.yaxis.set_visible(False)\n",
    "    ax.set_title(i)\n",
    "    i += 18\n",
    "\n",
    "\n",
    "plt.tight_layout()\n",
    "plt.show()\n",
    "fig.savefig('seg_grid.png')"
   ]
  },
  {
   "cell_type": "code",
   "execution_count": null,
   "id": "c6933d84",
   "metadata": {},
   "outputs": [],
   "source": [
    "n_col = 5 \n",
    "n_row = 1\n",
    "fig, axs = plt.subplots(n_row, n_col, figsize=(12, 5))\n",
    "sample_data = [imgs[3+18*i] for i in range(5)]\n",
    "axs = axs.flatten()\n",
    "i = 3\n",
    "for img, ax in zip(sample_data, axs):\n",
    "    ax.imshow(img[0].squeeze(), cmap='gray')\n",
    "    ax.xaxis.set_visible(False)\n",
    "    ax.yaxis.set_visible(False)\n",
    "    ax.set_title(i)\n",
    "    i += 18\n",
    "\n",
    "\n",
    "plt.tight_layout()\n",
    "plt.show()\n",
    "fig.savefig('img_grid.png')"
   ]
  },
  {
   "cell_type": "code",
   "execution_count": null,
   "id": "a4a8f20c",
   "metadata": {},
   "outputs": [],
   "source": []
  },
  {
   "cell_type": "code",
   "execution_count": null,
   "id": "b96e07ec",
   "metadata": {},
   "outputs": [],
   "source": []
  }
 ],
 "metadata": {
  "kernelspec": {
   "display_name": "Python 3 (ipykernel)",
   "language": "python",
   "name": "python3"
  },
  "language_info": {
   "codemirror_mode": {
    "name": "ipython",
    "version": 3
   },
   "file_extension": ".py",
   "mimetype": "text/x-python",
   "name": "python",
   "nbconvert_exporter": "python",
   "pygments_lexer": "ipython3",
   "version": "3.7.11"
  }
 },
 "nbformat": 4,
 "nbformat_minor": 5
}
