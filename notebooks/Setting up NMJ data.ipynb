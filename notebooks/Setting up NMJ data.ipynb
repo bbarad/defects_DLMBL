{
 "cells": [
  {
   "cell_type": "code",
   "execution_count": 1,
   "id": "73cd656e",
   "metadata": {},
   "outputs": [],
   "source": [
    "%load_ext autoreload\n",
    "%autoreload 1\n",
    "import io\n",
    "import tifffile\n",
    "import zarr\n",
    "import glob\n",
    "import os\n",
    "from imgaug import augmenters as iaa\n",
    "import imgaug as ia\n",
    "from imgaug.augmentables.segmaps import SegmentationMapsOnImage\n",
    "import numpy as np\n",
    "import skimage\n",
    "import torch\n",
    "from torch.utils.data import Dataset\n",
    "from imgaug import augmenters as iaa\n",
    "import matplotlib.pyplot as plt\n",
    "from embeddingutils.transforms import Segmentation2AffinitiesWithPadding"
   ]
  },
  {
   "cell_type": "code",
   "execution_count": 2,
   "id": "0eb35092",
   "metadata": {},
   "outputs": [],
   "source": [
    "from defects_dlmbl.unetmodule import UNetModuleWithBCEAux\n",
    "\n",
    "from defects_dlmbl.datamodules import NMJDataModule\n",
    "from defects_dlmbl.datasets import NMJDataset\n",
    "import pytorch_lightning as pl\n",
    "import argparse\n",
    "from imgaug import augmenters as iaa\n",
    "from pytorch_lightning.loggers import TensorBoardLogger\n",
    "from pytorch_lightning.callbacks import ModelCheckpoint\n",
    "import os"
   ]
  },
  {
   "cell_type": "code",
   "execution_count": 3,
   "id": "80eb892c",
   "metadata": {},
   "outputs": [],
   "source": [
    "data_path = '/home/delsignores/defects_DLMBL/data/NMJ_training_data_crop/'\n",
    "offsets = [[-1,0],[0,-1],[-9,0],[0,-9]]\n",
    "img_dir = 'images_block_1'"
   ]
  },
  {
   "cell_type": "code",
   "execution_count": 4,
   "id": "3d32bfde",
   "metadata": {},
   "outputs": [],
   "source": [
    "dm = NMJDataModule(data_path, augmenter=None, offsets = offsets)"
   ]
  },
  {
   "cell_type": "code",
   "execution_count": 5,
   "id": "60974a78",
   "metadata": {},
   "outputs": [],
   "source": [
    "dm.setup()\n",
    "td = dm.train_dataloader()"
   ]
  },
  {
   "cell_type": "code",
   "execution_count": 6,
   "id": "961e2511",
   "metadata": {},
   "outputs": [
    {
     "data": {
      "image/png": "[encoded data removed]",
      "text/plain": [
       "<Figure size 432x288 with 2 Axes>"
      ]
     },
     "metadata": {
      "needs_background": "light"
     },
     "output_type": "display_data"
    }
   ],
   "source": [
    "for image in td:\n",
    "    fig, ax = plt.subplots(2, 1)\n",
    "    ax[0].imshow(image[0][0][0])\n",
    "    ax[1].imshow(image[2][0][0])\n",
    "    break"
   ]
  },
  {
   "cell_type": "code",
   "execution_count": 7,
   "id": "6e5767e2",
   "metadata": {},
   "outputs": [],
   "source": [
    "model = UNetModuleWithBCEAux(offsets=offsets, image_dir=img_dir)"
   ]
  },
  {
   "cell_type": "code",
   "execution_count": 8,
   "id": "49f53448",
   "metadata": {},
   "outputs": [
    {
     "name": "stderr",
     "output_type": "stream",
     "text": [
      "GPU available: True, used: False\n",
      "TPU available: False, using: 0 TPU cores\n",
      "IPU available: False, using: 0 IPUs\n",
      "/home/delsignores/.local/lib/python3.7/site-packages/pytorch_lightning/trainer/trainer.py:1304: UserWarning: GPU available but not used. Set the gpus flag in your trainer `Trainer(gpus=1)` or script `--gpus=1`.\n",
      "  \"GPU available but not used. Set the gpus flag in your trainer\"\n"
     ]
    }
   ],
   "source": [
    "trainer = pl.Trainer()"
   ]
  },
  {
   "cell_type": "code",
   "execution_count": 9,
   "id": "fdc874f3",
   "metadata": {},
   "outputs": [
    {
     "ename": "NameError",
     "evalue": "name 'plt' is not defined",
     "output_type": "error",
     "traceback": [
      "\u001b[0;31m---------------------------------------------------------------------------\u001b[0m",
      "\u001b[0;31mNameError\u001b[0m                                 Traceback (most recent call last)",
      "\u001b[0;32m/tmp/ipykernel_3840/3714892686.py\u001b[0m in \u001b[0;36m<module>\u001b[0;34m\u001b[0m\n\u001b[1;32m      1\u001b[0m \u001b[0;32mfor\u001b[0m \u001b[0mbatch\u001b[0m \u001b[0;32min\u001b[0m \u001b[0mtd\u001b[0m\u001b[0;34m:\u001b[0m\u001b[0;34m\u001b[0m\u001b[0;34m\u001b[0m\u001b[0m\n\u001b[0;32m----> 2\u001b[0;31m     \u001b[0mprint\u001b[0m\u001b[0;34m(\u001b[0m\u001b[0mmodel\u001b[0m\u001b[0;34m.\u001b[0m\u001b[0mtraining_step\u001b[0m\u001b[0;34m(\u001b[0m\u001b[0mbatch\u001b[0m\u001b[0;34m,\u001b[0m \u001b[0;36m0\u001b[0m\u001b[0;34m)\u001b[0m\u001b[0;34m)\u001b[0m\u001b[0;34m\u001b[0m\u001b[0;34m\u001b[0m\u001b[0m\n\u001b[0m\u001b[1;32m      3\u001b[0m     \u001b[0;32mbreak\u001b[0m\u001b[0;34m\u001b[0m\u001b[0;34m\u001b[0m\u001b[0m\n",
      "\u001b[0;32m~/defects_DLMBL/defects_dlmbl/unetmodule.py\u001b[0m in \u001b[0;36mtraining_step\u001b[0;34m(self, batch, batch_idx)\u001b[0m\n\u001b[1;32m    136\u001b[0m                 \u001b[0mx\u001b[0m\u001b[0;34m,\u001b[0m\u001b[0mgt_aff\u001b[0m\u001b[0;34m,\u001b[0m\u001b[0mgt_seg\u001b[0m\u001b[0;34m=\u001b[0m\u001b[0mbatch\u001b[0m\u001b[0;34m\u001b[0m\u001b[0;34m\u001b[0m\u001b[0m\n\u001b[1;32m    137\u001b[0m                 \u001b[0mlogits\u001b[0m\u001b[0;34m=\u001b[0m\u001b[0mself\u001b[0m\u001b[0;34m(\u001b[0m\u001b[0mx\u001b[0m\u001b[0;34m)\u001b[0m\u001b[0;34m\u001b[0m\u001b[0;34m\u001b[0m\u001b[0m\n\u001b[0;32m--> 138\u001b[0;31m                 \u001b[0mfig\u001b[0m\u001b[0;34m,\u001b[0m \u001b[0max\u001b[0m \u001b[0;34m=\u001b[0m \u001b[0mplt\u001b[0m\u001b[0;34m.\u001b[0m\u001b[0msubplots\u001b[0m\u001b[0;34m(\u001b[0m\u001b[0;34m)\u001b[0m\u001b[0;34m\u001b[0m\u001b[0;34m\u001b[0m\u001b[0m\n\u001b[0m\u001b[1;32m    139\u001b[0m                 \u001b[0max\u001b[0m\u001b[0;34m[\u001b[0m\u001b[0;36m0\u001b[0m\u001b[0;34m]\u001b[0m\u001b[0;34m.\u001b[0m\u001b[0mimshow\u001b[0m\u001b[0;34m(\u001b[0m\u001b[0mx\u001b[0m\u001b[0;34m[\u001b[0m\u001b[0;36m0\u001b[0m\u001b[0;34m]\u001b[0m\u001b[0;34m)\u001b[0m\u001b[0;34m\u001b[0m\u001b[0;34m\u001b[0m\u001b[0m\n\u001b[1;32m    140\u001b[0m                 \u001b[0max\u001b[0m\u001b[0;34m[\u001b[0m\u001b[0;36m1\u001b[0m\u001b[0;34m]\u001b[0m\u001b[0;34m.\u001b[0m\u001b[0mimshow\u001b[0m\u001b[0;34m(\u001b[0m\u001b[0mgt_seg\u001b[0m\u001b[0;34m[\u001b[0m\u001b[0;36m0\u001b[0m\u001b[0;34m]\u001b[0m\u001b[0;34m)\u001b[0m\u001b[0;34m\u001b[0m\u001b[0;34m\u001b[0m\u001b[0m\n",
      "\u001b[0;31mNameError\u001b[0m: name 'plt' is not defined"
     ]
    }
   ],
   "source": [
    "for batch in td:\n",
    "    print(model.training_step(batch, 0))\n",
    "    break"
   ]
  },
  {
   "cell_type": "code",
   "execution_count": null,
   "id": "2b401ff6",
   "metadata": {},
   "outputs": [],
   "source": [
    "#plt.imshow(NMJ[0][1][0])"
   ]
  },
  {
   "cell_type": "code",
   "execution_count": null,
   "id": "8ddd5f86",
   "metadata": {},
   "outputs": [],
   "source": [
    "ds = NMJDataset(data_path)"
   ]
  },
  {
   "cell_type": "code",
   "execution_count": null,
   "id": "e2b2e4db",
   "metadata": {},
   "outputs": [],
   "source": [
    "ds[1][2].shape"
   ]
  },
  {
   "cell_type": "code",
   "execution_count": null,
   "id": "541d85c0",
   "metadata": {},
   "outputs": [],
   "source": [
    "ds[1][2].shape"
   ]
  },
  {
   "cell_type": "code",
   "execution_count": null,
   "id": "7d1fb435",
   "metadata": {},
   "outputs": [],
   "source": [
    "plt.imshow(ds[2][2][0])"
   ]
  },
  {
   "cell_type": "code",
   "execution_count": null,
   "id": "de1fe55a",
   "metadata": {},
   "outputs": [],
   "source": [
    "plt.imshow(ds[3][2][0])"
   ]
  },
  {
   "cell_type": "code",
   "execution_count": null,
   "id": "c252ccba",
   "metadata": {},
   "outputs": [],
   "source": [
    "img=ds[0][0]\n",
    "gt=ds[0][2][0]"
   ]
  },
  {
   "cell_type": "code",
   "execution_count": null,
   "id": "fdc25730",
   "metadata": {},
   "outputs": [],
   "source": [
    "imgt=np.transpose(img)"
   ]
  },
  {
   "cell_type": "code",
   "execution_count": null,
   "id": "fe19df25",
   "metadata": {},
   "outputs": [],
   "source": [
    "imgt.shape"
   ]
  },
  {
   "cell_type": "code",
   "execution_count": null,
   "id": "3218d698",
   "metadata": {},
   "outputs": [],
   "source": [
    "img.shape"
   ]
  },
  {
   "cell_type": "code",
   "execution_count": null,
   "id": "90943a4b",
   "metadata": {},
   "outputs": [],
   "source": [
    "imgt1=imgt.moveaxis(2,0)"
   ]
  },
  {
   "cell_type": "code",
   "execution_count": null,
   "id": "e954ce30",
   "metadata": {},
   "outputs": [],
   "source": [
    "imgt1.shape"
   ]
  },
  {
   "cell_type": "code",
   "execution_count": null,
   "id": "0dfac3f9",
   "metadata": {},
   "outputs": [],
   "source": [
    "a=np.zeros((3,2,2))"
   ]
  },
  {
   "cell_type": "code",
   "execution_count": null,
   "id": "4f76c48d",
   "metadata": {},
   "outputs": [],
   "source": [
    "b=np.moveaxis(a,2,0)"
   ]
  },
  {
   "cell_type": "code",
   "execution_count": null,
   "id": "2e9425e7",
   "metadata": {},
   "outputs": [],
   "source": []
  }
 ],
 "metadata": {
  "kernelspec": {
   "display_name": "Python 3 (ipykernel)",
   "language": "python",
   "name": "python3"
  },
  "language_info": {
   "codemirror_mode": {
    "name": "ipython",
    "version": 3
   },
   "file_extension": ".py",
   "mimetype": "text/x-python",
   "name": "python",
   "nbconvert_exporter": "python",
   "pygments_lexer": "ipython3",
   "version": "3.7.11"
  }
 },
 "nbformat": 4,
 "nbformat_minor": 5
}
