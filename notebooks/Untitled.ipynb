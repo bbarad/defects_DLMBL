{
 "cells": [
  {
   "cell_type": "code",
   "execution_count": 45,
   "id": "ec4eac36",
   "metadata": {},
   "outputs": [],
   "source": [
    "import warnings\n",
    "\n",
    "import numpy as np\n",
    "from matplotlib import pyplot as plt\n",
    "from scipy import ndimage\n",
    "\n",
    "import urllib\n",
    "import os\n",
    "import zipfile\n",
    "from defects_dlmbl.datamodules import WingDataModule\n",
    "from defects_dlmbl.datasets import WingDataset\n",
    "from tempfile import TemporaryFile"
   ]
  },
  {
   "cell_type": "code",
   "execution_count": 2,
   "id": "5b69b79a",
   "metadata": {},
   "outputs": [],
   "source": [
    "trainval_data =  np.load('/home/delsignores/defects_DLMBL/data/Flywing_n0/train/train_data.npz')\n",
    "train_images = trainval_data['X_train'].astype(np.float32)\n",
    "train_masks = trainval_data['Y_train']\n",
    "val_images = trainval_data['X_val'].astype(np.float32)\n",
    "val_masks = trainval_data['Y_val']\n",
    "x = np.concatenate((train_images, val_images))\n",
    "samples = len(x)"
   ]
  },
  {
   "cell_type": "code",
   "execution_count": 6,
   "id": "b38a7731",
   "metadata": {},
   "outputs": [],
   "source": []
  },
  {
   "cell_type": "code",
   "execution_count": 17,
   "id": "bdaf435f",
   "metadata": {},
   "outputs": [
    {
     "data": {
      "text/plain": [
       "(128, 128)"
      ]
     },
     "execution_count": 17,
     "metadata": {},
     "output_type": "execute_result"
    }
   ],
   "source": [
    "test[5:50, 5:50]=0\n",
    "test.shape"
   ]
  },
  {
   "cell_type": "code",
   "execution_count": 39,
   "id": "ed36c90e",
   "metadata": {},
   "outputs": [],
   "source": [
    "def blackout(arr1, arr2, size_range):\n",
    "    size = np.random.randint(*size_range)\n",
    "    x=np.random.randint(0, arr1.shape[0]-size)\n",
    "    y=np.random.randint(0, arr1.shape[1]-size)\n",
    "    arr1[x:x+size, y:y+size]=0\n",
    "    arr2[x:x+size, y:y+size]=0"
   ]
  },
  {
   "cell_type": "code",
   "execution_count": 40,
   "id": "c973ce70",
   "metadata": {},
   "outputs": [],
   "source": [
    "size_range = (10, 40)"
   ]
  },
  {
   "cell_type": "code",
   "execution_count": 41,
   "id": "35008013",
   "metadata": {},
   "outputs": [],
   "source": [
    "test=x[0].copy()"
   ]
  },
  {
   "cell_type": "code",
   "execution_count": 42,
   "id": "64dbdfa3",
   "metadata": {},
   "outputs": [],
   "source": [
    "for (img, mask) in zip(train_images, train_masks):\n",
    "    blackout(img, mask, size_range)"
   ]
  },
  {
   "cell_type": "code",
   "execution_count": 47,
   "id": "374ae36f",
   "metadata": {},
   "outputs": [],
   "source": [
    "outfile = '/home/delsignores/defects_DLMBL/data/Flywing_n0/train/train_data_blackout.npz'\n",
    "np.savez(outfile, X_train=train_images, Y_train=train_masks, X_val=val_images, Y_val=val_masks)"
   ]
  },
  {
   "cell_type": "code",
   "execution_count": null,
   "id": "cea09538",
   "metadata": {},
   "outputs": [],
   "source": []
  },
  {
   "cell_type": "code",
   "execution_count": 7,
   "id": "e45d7e44",
   "metadata": {},
   "outputs": [],
   "source": [
    "wdataset = WingDataset(data_path)"
   ]
  },
  {
   "cell_type": "code",
   "execution_count": 8,
   "id": "4eb336b2",
   "metadata": {},
   "outputs": [
    {
     "data": {
      "text/plain": [
       "torch.Size([1, 128, 128])"
      ]
     },
     "execution_count": 8,
     "metadata": {},
     "output_type": "execute_result"
    }
   ],
   "source": [
    "wdataset[0][2].shape"
   ]
  },
  {
   "cell_type": "code",
   "execution_count": 9,
   "id": "e3c608b0",
   "metadata": {},
   "outputs": [],
   "source": [
    "#plt.imshow(wdataset[0][0])"
   ]
  },
  {
   "cell_type": "code",
   "execution_count": null,
   "id": "0f3ba357",
   "metadata": {},
   "outputs": [],
   "source": []
  }
 ],
 "metadata": {
  "kernelspec": {
   "display_name": "Python 3 (ipykernel)",
   "language": "python",
   "name": "python3"
  },
  "language_info": {
   "codemirror_mode": {
    "name": "ipython",
    "version": 3
   },
   "file_extension": ".py",
   "mimetype": "text/x-python",
   "name": "python",
   "nbconvert_exporter": "python",
   "pygments_lexer": "ipython3",
   "version": "3.7.11"
  }
 },
 "nbformat": 4,
 "nbformat_minor": 5
}
