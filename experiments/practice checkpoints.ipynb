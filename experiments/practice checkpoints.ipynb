{
 "cells": [
  {
   "cell_type": "code",
   "execution_count": 8,
   "id": "c877abb3",
   "metadata": {},
   "outputs": [],
   "source": [
    "import torch\n",
    "import pytorch_lightning\n",
    "from defects_dlmbl import unet\n",
    "from defects_dlmbl.unetmodule import UNetModule"
   ]
  },
  {
   "cell_type": "code",
   "execution_count": 3,
   "id": "9206b6be",
   "metadata": {},
   "outputs": [],
   "source": [
    "ckpoint='/home/delsignores/defects_DLMBL/experiments/lightning_logs/version_0/checkpoints/epoch=999-step=98999.ckpt'"
   ]
  },
  {
   "cell_type": "code",
   "execution_count": 9,
   "id": "be3236c2",
   "metadata": {},
   "outputs": [],
   "source": [
    "module= UNetModule()\n"
   ]
  },
  {
   "cell_type": "code",
   "execution_count": null,
   "id": "402bef23",
   "metadata": {},
   "outputs": [],
   "source": [
    "model = my_model.load_from_checkpoint(chk_path, layers=3, drop_rate=0)"
   ]
  }
 ],
 "metadata": {
  "kernelspec": {
   "display_name": "Python 3 (ipykernel)",
   "language": "python",
   "name": "python3"
  },
  "language_info": {
   "codemirror_mode": {
    "name": "ipython",
    "version": 3
   },
   "file_extension": ".py",
   "mimetype": "text/x-python",
   "name": "python",
   "nbconvert_exporter": "python",
   "pygments_lexer": "ipython3",
   "version": "3.7.11"
  }
 },
 "nbformat": 4,
 "nbformat_minor": 5
}
